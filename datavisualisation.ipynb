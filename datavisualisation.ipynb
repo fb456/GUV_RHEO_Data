{
  "metadata": {
    "kernelspec": {
      "name": "python",
      "display_name": "Python (Pyodide)",
      "language": "python"
    },
    "language_info": {
      "codemirror_mode": {
        "name": "python",
        "version": 3
      },
      "file_extension": ".py",
      "mimetype": "text/x-python",
      "name": "python",
      "nbconvert_exporter": "python",
      "pygments_lexer": "ipython3",
      "version": "3.8"
    }
  },
  "nbformat_minor": 4,
  "nbformat": 4,
  "cells": [
    {
      "cell_type": "code",
      "source": "%pip install -q ipywidgets \nimport ipywidgets as widgets\n%matplotlib inline\nimport matplotlib.pyplot as plt\nimport numpy as np\nimport pandas\nimport ipywidgets as widgets",
      "metadata": {
        "trusted": true
      },
      "outputs": [],
      "execution_count": 1
    },
    {
      "cell_type": "code",
      "source": "# load the data\ndata_all = pandas.read_csv(\"all_runs_spim_pc1.csv\",delimiter=\",\",)\n\n# column headers that are important\ninputs = ['meansize','msd','linker_length','linker_conc','temperature','run_index','beta','1/eta','cbeta']\ndata_all.loc[data_all.linker_conc.isin([0.0]),'linker_conc'] += 0.1 # to include logarithm of zero conc \ndata_all['linker_conc'] = np.log10(data_all['linker_conc'])\n\n# select input data and dependent variables\nX = data_all[inputs[0:6]].to_numpy() # things to vary\ny = data_all[inputs[6:]].to_numpy()  # fit parameters",
      "metadata": {
        "trusted": true
      },
      "outputs": [],
      "execution_count": 2
    },
    {
      "cell_type": "code",
      "source": "# determine the color scale of the 2D colormap\ninit_col_value = 1\nfinal_col_value = 0\n\n# figure fontsize\nfontsize = 20\n\n# marker shapes\nshapes = ['o','h','s','^']\n\nunique_color_dicts = {input_:np.unique(data_all[input_]) for input_ in inputs[0:6]}\ncolormap_ticks = {'linker_length':np.array([0,5,10,15]),'linker_conc':np.log10(np.array([0.1,1,10,100])),\n                  'temperature':np.arange(20,40,5),'run_index':np.array([1,2,3]),\n                  'meansize':np.around(np.linspace(np.min(data_all['meansize']),np.max(data_all['meansize']),4),2),\n                  'msd':np.around(np.linspace(np.min(data_all['msd']),np.max(data_all['msd']),4),3)}\n\nshape_dict = {0:'temperature',1:'run_index',2:'linker_conc',3:'linker_length'}\ncolor_dict = {0:'linker_conc',1:'linker_length',2:'meansize',3:'msd',4:'temperature',5:'run_index'}\nshape_dict_rev = {v: k for k, v in shape_dict.items()}\ncolor_dict_rev = {v: k for k, v in color_dict.items()}\n\n\nshape_plot_dict = {'temperature': {20:shapes[0],25:shapes[1],30:shapes[2],35:shapes[3]}, \n                   'run_index': {1:shapes[0],2:shapes[1],3:shapes[2]},\n                   'linker_conc':{np.log10(0.1):shapes[0],np.log10(1):shapes[1],np.log10(10):shapes[2],np.log10(100):shapes[3]},\n                   'linker_length':{0:shapes[0],5:shapes[1],10:shapes[2],15:shapes[3]}}\n\nvariable_unit_dict = {'temperature':r'$\\degree C$','run_index':'',\n                      'linker_conc':r'','linker_length':r'$bp$',\n                      'meansize':r'$um$','msd':r'$um$'}\n\nvariable_symbol_dict = {'temperature':r'$T$','run_index':'run index',\n                      'linker_conc': r'$log_{10}(C)$','linker_length':r'$l$',\n                      'meansize':r'$\\mu$','msd':r'$\\sigma$'}",
      "metadata": {
        "trusted": true
      },
      "outputs": [],
      "execution_count": 3
    },
    {
      "cell_type": "code",
      "source": "out = widgets.Output()\n\ndef interactive_plot(shapelab,colorlab0,colorlab1):\n    #clear_output(wait=True)\n    fig, ax = plt.subplots(1,3,figsize=(18,8),gridspec_kw={'width_ratios':[2,2,0.6]})\n    \n    ax[0].set_ylabel(r'$\\beta$',fontsize=fontsize)\n    \n    ax[0].set_xlabel(r'$c_{\\beta}$',fontsize=fontsize)\n    ax[1].set_xlabel(r'$1/\\eta$',fontsize=fontsize)\n    \n    ax[0].set_xscale('log')\n    ax[1].set_xscale('log')\n    \n    ax[0].set_yticks([0.0,0.1,0.2,0.3])\n    ax[1].set_yticks([0.0,0.1,0.2,0.3])\n    ax[0].tick_params(labelsize=fontsize*3/4)\n    ax[1].tick_params(labelsize=fontsize*3/4)\n    \n    ax[0].set_ylim(-0.01,0.31)\n    ax[1].set_ylim(-0.01,0.31)\n    \n    draw_figure(ax,shapelab,colorlab0,colorlab1)\n    plot_shape_legend(ax,shapelab)\n    plot_color_legend(ax,colorlab0,colorlab1)\n    plt.show()\n\n\ndef choose_color(index,lab1,lab2):\n    dat_1 = unique_color_dicts[lab1]\n    dat_2 = unique_color_dicts[lab2]\n    \n    val1 = data_all[lab1][index]\n    val2 = data_all[lab2][index]\n    \n    index1 = np.where(dat_1==val1)[0][0]\n    index2 = np.where(dat_2==val2)[0][0]\n    \n    xx = np.linspace(init_col_value,final_col_value,len(dat_1))\n    yy = np.linspace(init_col_value,final_col_value,len(dat_2))\n    \n    r_val = xx[index1]\n    g_val = yy[index2]\n    return (r_val,g_val,0)\n\ndef choose_shape(index,param):\n    return shape_plot_dict[param][data_all[param][index]]\n\ndef plot_point0(index,ax,shapelab,colorlab0,colorlab1):\n    color = choose_color(index,colorlab0,colorlab1)\n    shape = choose_shape(index,shapelab)\n    #print(\"lol1\")\n    ax[0].scatter(y[index,1],y[index,0],color=color,marker=shape) # beta vs cbeta\n\ndef plot_point1(index,ax,shapelab,colorlab0,colorlab1):\n    \n    color = choose_color(index,colorlab0,colorlab1)\n    shape = choose_shape(index,shapelab)\n    ax[1].scatter(y[index,2],y[index,0],color=color,marker=shape) # beta vs 1/eta\n\ndef draw_figure(ax,shapelab,colorlab0,colorlab1):\n    #for index in np.arange(0,np.shape(y)[0]):\n    #    plots1[index].remove()\n    #    plots2[index].remove()\n\n    \n    for index in np.arange(0,np.shape(y)[0]):\n        \n        plot_point0(index,ax,shapelab,colorlab0,colorlab1)\n        \n        plot_point1(index,ax,shapelab,colorlab0,colorlab1)\n        \ndef plot_shape_legend(ax,label):  \n    # remove existing shape legend\n    for line in ax[1].lines + ax[1].collections + ax[1].patches + ax[1].images:\n        line.set_label(s='')\n        \n    # add new shape legend\n    sorted_keys = sorted(shape_plot_dict[label].keys())\n    for key in sorted_keys:\n        markershape = shape_plot_dict[label][key]\n        ax[1].scatter([1.0],[2.0],color=\"black\",marker=markershape,s=fontsize*4,\n                      label=\"{}={}{}\".format(variable_symbol_dict[label],key,variable_unit_dict[label])) # beta vs 1/eta\n  \n    ax[1].legend(fontsize=fontsize*3/4)\n\ndef plot_color_legend(ax,lab1,lab2):\n    \n    dat_1 = unique_color_dicts[lab1]\n    dat_2 = unique_color_dicts[lab2] \n    \n    xx,yy = np.meshgrid(np.linspace(init_col_value,final_col_value,len(dat_1)),\n                        np.linspace(init_col_value,final_col_value,len(dat_2)))\n    \n    X_to_plot = np.dstack((xx, yy, np.zeros_like(xx)))\n    \n    # adjust color to account for the fact that length=0 is the same for all conc.\n    if (lab1 == 'linker_length' and  lab2 == 'linker_conc') or (lab2 == 'linker_length' and  lab1 == 'linker_conc'):\n        X_to_plot[0,1:,:] = X_to_plot[1:,0,:] = 1\n        \n    elif lab1 == lab2:\n        for i in range(np.shape(X_to_plot[:,:,0])[0]):\n            for j in range(np.shape(X_to_plot[:,:,0])[1]):\n                if i != j:\n                    X_to_plot[i,j,:] = 1\n            \n    ax[2].imshow(\n        X_to_plot,\n        extent = (np.min(dat_1),np.max(dat_1),np.min(dat_2),np.max(dat_2)),\n        aspect = 'auto',\n        origin = 'lower')\n    \n    ax[2].set_xticks(colormap_ticks[lab1])\n    ax[2].set_yticks(colormap_ticks[lab2])\n   \n    if variable_unit_dict[lab1] == '':\n        ax[2].set_xlabel('{}'.format(variable_symbol_dict[lab1]),fontsize=fontsize)\n    else:\n        ax[2].set_xlabel('{} ({})'.format(variable_symbol_dict[lab1],variable_unit_dict[lab1]),fontsize=fontsize)\n        \n    if variable_unit_dict[lab2] == '':\n        ax[2].set_ylabel('{}'.format(variable_symbol_dict[lab2]),fontsize=fontsize)\n    else:\n        ax[2].set_ylabel('{} ({})'.format(variable_symbol_dict[lab2],variable_unit_dict[lab2]),fontsize=fontsize)",
      "metadata": {
        "trusted": true
      },
      "outputs": [],
      "execution_count": 4
    },
    {
      "cell_type": "code",
      "source": "widgets.interact(interactive_plot, shapelab = widgets.Dropdown(description = \"Shape\",options = (shape_dict[0],shape_dict[1],shape_dict[2],shape_dict[3]),disabled=False),\n         colorlab0=widgets.Dropdown(description = \"Color 1\", options = (color_dict[0],color_dict[1],color_dict[2],color_dict[3],color_dict[4],color_dict[5]),\n                                     value=color_dict[0],disabled=False),\n         colorlab1=widgets.Dropdown(description = \"Color 2\", options = (color_dict[0],color_dict[1],color_dict[2],color_dict[3],color_dict[4],color_dict[5]),\n                                     value=color_dict[1],disabled=False))",
      "metadata": {
        "trusted": true
      },
      "outputs": [
        {
          "output_type": "display_data",
          "data": {
            "text/plain": "interactive(children=(Dropdown(description='Shape', options=('temperature', 'run_index', 'linker_conc', 'linke…",
            "application/vnd.jupyter.widget-view+json": {
              "version_major": 2,
              "version_minor": 0,
              "model_id": "9ffcbcb2f831433285613421a67570bf"
            }
          },
          "metadata": {}
        },
        {
          "execution_count": 5,
          "output_type": "execute_result",
          "data": {
            "text/plain": "<function __main__.interactive_plot(shapelab, colorlab0, colorlab1)>"
          },
          "metadata": {}
        }
      ],
      "execution_count": 5
    },
    {
      "cell_type": "code",
      "source": "",
      "metadata": {
        "trusted": true
      },
      "outputs": [],
      "execution_count": null
    },
    {
      "cell_type": "code",
      "source": "",
      "metadata": {
        "trusted": true
      },
      "outputs": [],
      "execution_count": null
    }
  ]
}